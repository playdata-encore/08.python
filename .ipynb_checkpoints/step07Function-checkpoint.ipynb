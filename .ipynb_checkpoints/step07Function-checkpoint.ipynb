{
 "cells": [
  {
   "cell_type": "markdown",
   "metadata": {},
   "source": [
    "<!--NAVIGATION-->\n",
    "\n",
    "\n",
    "[[step06. 변수 학습 page로 이동](step06VariableOperators.ipynb) ] | [[step08.comprehension 학습 page로 이동](step08Comprehension.ipynb) ]"
   ]
  },
  {
   "cell_type": "markdown",
   "metadata": {},
   "source": [
    "### 함수 구현의 다양한 문법 \n",
    "\n",
    "- 인수(argument) - 호출 프로그램에 의하여 함수에 전달되는 값\n",
    "- 매개변수(parmeter) - 인수값을 전달받는 변수\n",
    "\n",
    "--------------------------------------------------------\n",
    "\n",
    "- 디폴트 인수 : 함수의 매개 변수가 기본값 보유\n",
    "- 키워드 인수 : 인수들 앞에 키워드를 두어 인수 구분\n",
    "- 임의의 인수 목록 : 인자의 개수가 정해지지 않은 가변 인수를 전달\n",
    "- 람다 함수 : 이름이 없는 한줄짜리 함수"
   ]
  },
  {
   "cell_type": "code",
   "execution_count": 65,
   "metadata": {},
   "outputs": [
    {
     "name": "stdout",
     "output_type": "stream",
     "text": [
      "(1, 2)\n",
      "a 2\n"
     ]
    }
   ],
   "source": [
    "# 반환값이 여러개도 가능\n",
    "\n",
    "def f1():\n",
    "    return 1, 2\n",
    "\n",
    "print(f1())\n",
    "\n",
    "\n",
    "def f2():\n",
    "    return 'a', 2\n",
    "\n",
    "v1, v2 = f2()\n",
    "print(v1, v2)"
   ]
  },
  {
   "cell_type": "markdown",
   "metadata": {},
   "source": [
    "### 1. 디폴트(default) 인수"
   ]
  },
  {
   "cell_type": "code",
   "execution_count": 1,
   "metadata": {},
   "outputs": [],
   "source": [
    "# 매개변수 기본 초기화값 활용하는 함수\n",
    "# 호출 : 함수명(값1), 함수명(값1, 값2)\n",
    "\n",
    "\n"
   ]
  },
  {
   "cell_type": "code",
   "execution_count": null,
   "metadata": {},
   "outputs": [],
   "source": []
  },
  {
   "cell_type": "markdown",
   "metadata": {},
   "source": [
    "### 2. 키워드 인수\n",
    "\n",
    "- **kwargs : keyword argument 줄임말\n",
    "- **kwargs : 키워드=특정값 형태로호출"
   ]
  },
  {
   "cell_type": "code",
   "execution_count": 5,
   "metadata": {},
   "outputs": [],
   "source": [
    "def fun2(x, y, z):\n",
    "    return x + y + z    "
   ]
  },
  {
   "cell_type": "code",
   "execution_count": 6,
   "metadata": {},
   "outputs": [
    {
     "data": {
      "text/plain": [
       "60"
      ]
     },
     "execution_count": 6,
     "metadata": {},
     "output_type": "execute_result"
    }
   ],
   "source": [
    "fun2(10, 20, 30)"
   ]
  },
  {
   "cell_type": "code",
   "execution_count": 7,
   "metadata": {},
   "outputs": [
    {
     "data": {
      "text/plain": [
       "60"
      ]
     },
     "execution_count": 7,
     "metadata": {},
     "output_type": "execute_result"
    }
   ],
   "source": [
    "fun2(x=10, y=20, z=30)"
   ]
  },
  {
   "cell_type": "code",
   "execution_count": 8,
   "metadata": {},
   "outputs": [
    {
     "data": {
      "text/plain": [
       "60"
      ]
     },
     "execution_count": 8,
     "metadata": {},
     "output_type": "execute_result"
    }
   ],
   "source": [
    "fun2(z=10, y=20, x=30)"
   ]
  },
  {
   "cell_type": "code",
   "execution_count": 9,
   "metadata": {},
   "outputs": [],
   "source": [
    "# **kwargs 사용\n",
    "def fun3(**kwargs):\n",
    "    \n",
    "\n"
   ]
  },
  {
   "cell_type": "code",
   "execution_count": 10,
   "metadata": {},
   "outputs": [
    {
     "data": {
      "text/plain": [
       "60"
      ]
     },
     "execution_count": 10,
     "metadata": {},
     "output_type": "execute_result"
    }
   ],
   "source": [
    "fun3(x=10, y=20, z=30)"
   ]
  },
  {
   "cell_type": "code",
   "execution_count": 11,
   "metadata": {},
   "outputs": [],
   "source": [
    "# **kwargs 사용 + 반복문과 items()\n",
    "\n",
    "\n"
   ]
  },
  {
   "cell_type": "code",
   "execution_count": 12,
   "metadata": {
    "scrolled": true
   },
   "outputs": [
    {
     "name": "stdout",
     "output_type": "stream",
     "text": [
      "x  :  10\n",
      "y  :  20\n",
      "z  :  30\n"
     ]
    }
   ],
   "source": [
    "fun4(x=10, y=20, z=30)"
   ]
  },
  {
   "cell_type": "markdown",
   "metadata": {},
   "source": [
    "### 3. 임의의 인수\n",
    "\n",
    "- *를 사용할 경우 인수는 튜퓰 형식\n",
    "- 가변인자 활용"
   ]
  },
  {
   "cell_type": "code",
   "execution_count": 13,
   "metadata": {},
   "outputs": [],
   "source": []
  },
  {
   "cell_type": "code",
   "execution_count": 14,
   "metadata": {},
   "outputs": [
    {
     "data": {
      "text/plain": [
       "'a-b'"
      ]
     },
     "execution_count": 14,
     "metadata": {},
     "output_type": "execute_result"
    }
   ],
   "source": [
    "fun3('a', 'b')"
   ]
  },
  {
   "cell_type": "code",
   "execution_count": 15,
   "metadata": {},
   "outputs": [
    {
     "data": {
      "text/plain": [
       "'a-b-c'"
      ]
     },
     "execution_count": 15,
     "metadata": {},
     "output_type": "execute_result"
    }
   ],
   "source": [
    "fun3('a', 'b', 'c')"
   ]
  },
  {
   "cell_type": "markdown",
   "metadata": {},
   "source": [
    "**미션-\n",
    "일회용 패스워드 생성기를 이용하여서 3개의 패스워드를 생성하여 출력하는 프로그램을 작성해 보기**\n",
    "\n",
    "출력 예시 : \n",
    "    \n",
    "ouuc4c <br>\n",
    "uuahtp <br>\n",
    "79s6oz <br>"
   ]
  },
  {
   "cell_type": "code",
   "execution_count": 16,
   "metadata": {},
   "outputs": [
    {
     "name": "stdout",
     "output_type": "stream",
     "text": [
      "32\n"
     ]
    }
   ],
   "source": [
    "import random\n",
    "\n",
    "print(random.randrange(36)) #0~35"
   ]
  },
  {
   "cell_type": "code",
   "execution_count": 17,
   "metadata": {},
   "outputs": [
    {
     "data": {
      "text/plain": [
       "'9'"
      ]
     },
     "execution_count": 17,
     "metadata": {},
     "output_type": "execute_result"
    }
   ],
   "source": [
    "alphabet = \"abcdefghijklmnopqrstuvwxyz0123456789\"\n",
    "#print(len(alphabet))\n",
    "alphabet[35]"
   ]
  },
  {
   "cell_type": "markdown",
   "metadata": {},
   "source": [
    "random() :0 이상 1 미만\n",
    "\n",
    "randrange() : 1에서 6까지의 정수 중 하나를 무작위로 반환"
   ]
  },
  {
   "cell_type": "code",
   "execution_count": 18,
   "metadata": {},
   "outputs": [
    {
     "name": "stdout",
     "output_type": "stream",
     "text": [
      "fdve90\n",
      "d3xkv7\n",
      "hkhg43\n"
     ]
    }
   ],
   "source": [
    "import random\n",
    "\n",
    "def genPass():\n",
    "    alphabet = \"abcdefghijklmnopqrstuvwxyz0123456789\"\n",
    "    password = \"\"\n",
    "    \n",
    "    ?\n",
    "\n",
    "\n",
    "\n",
    "print(genPass())\n",
    "print(genPass())\n",
    "print(genPass())"
   ]
  },
  {
   "cell_type": "markdown",
   "metadata": {},
   "source": [
    "### 4. 람다 함수\n",
    "\n",
    "- 이름없이 정의된 익명함수 \n",
    "- 매개변수 제한이 없음, 단 하나의 값만 반환\n",
    "- 함수의 반환, 변수의 데이터값으로 사용 가능\n",
    "- list의 sort의 key속성의 값으로도 사용 가능(실전 응용)\n",
    "- 문법 :<br>\n",
    "lambda 인자[,..] : 표현식(수식)\n"
   ]
  },
  {
   "cell_type": "code",
   "execution_count": null,
   "metadata": {},
   "outputs": [],
   "source": []
  },
  {
   "cell_type": "code",
   "execution_count": null,
   "metadata": {},
   "outputs": [],
   "source": []
  },
  {
   "cell_type": "code",
   "execution_count": null,
   "metadata": {},
   "outputs": [],
   "source": []
  },
  {
   "cell_type": "code",
   "execution_count": 1,
   "metadata": {},
   "outputs": [],
   "source": [
    "mylist=[1, 5, 3, 9, 8, 4, 2]\n",
    "mylist.sort()"
   ]
  },
  {
   "cell_type": "code",
   "execution_count": 2,
   "metadata": {},
   "outputs": [
    {
     "data": {
      "text/plain": [
       "[1, 2, 3, 4, 5, 8, 9]"
      ]
     },
     "execution_count": 2,
     "metadata": {},
     "output_type": "execute_result"
    }
   ],
   "source": [
    "mylist"
   ]
  },
  {
   "cell_type": "code",
   "execution_count": 31,
   "metadata": {},
   "outputs": [],
   "source": [
    "mylist=[ 1, 5, 3, 9, 8, 4, 2]\n",
    "\n",
    "\n",
    "\n"
   ]
  },
  {
   "cell_type": "code",
   "execution_count": 33,
   "metadata": {},
   "outputs": [
    {
     "data": {
      "text/plain": [
       "[1, 2, 3, 4, 5, 8, 9]"
      ]
     },
     "execution_count": 33,
     "metadata": {},
     "output_type": "execute_result"
    }
   ],
   "source": [
    "mylist=[1, 5, 3, 9, 8, 4, 2]\n",
    "\n",
    "\n",
    "\n"
   ]
  },
  {
   "cell_type": "code",
   "execution_count": 1,
   "metadata": {},
   "outputs": [],
   "source": [
    "mylist2 = [('kim', 23, 100), ('lee', 27, 99), ('park', 43, 102)]"
   ]
  },
  {
   "cell_type": "code",
   "execution_count": 2,
   "metadata": {},
   "outputs": [
    {
     "data": {
      "text/plain": [
       "[('lee', 27, 99), ('kim', 23, 100), ('park', 43, 102)]"
      ]
     },
     "execution_count": 2,
     "metadata": {},
     "output_type": "execute_result"
    }
   ],
   "source": [
    "mylist2.sort(key=lambda a : a[2])\n",
    "mylist2"
   ]
  },
  {
   "cell_type": "code",
   "execution_count": 36,
   "metadata": {},
   "outputs": [
    {
     "data": {
      "text/plain": [
       "[('kim', 23, 100), ('lee', 27, 99), ('park', 43, 102)]"
      ]
     },
     "execution_count": 36,
     "metadata": {},
     "output_type": "execute_result"
    }
   ],
   "source": [
    "mylist2 = [('kim', 23, 100), ('lee', 27, 99), ('park', 43, 102)]\n",
    "mylist2.sort(key=lambda a : a[0])\n",
    "mylist2"
   ]
  },
  {
   "cell_type": "code",
   "execution_count": 37,
   "metadata": {},
   "outputs": [
    {
     "data": {
      "text/plain": [
       "['egg', 'Ham', 'Spam']"
      ]
     },
     "execution_count": 37,
     "metadata": {},
     "output_type": "execute_result"
    }
   ],
   "source": [
    "# 대소문자 구분없이 sort 함수로 정렬 \n",
    "# 람다 사용해서 소문자로 변경해서 정렬 \n",
    "# lower()\n",
    "mylist3 = ['Spam', 'egg', 'Ham']\n",
    "\n",
    "?"
   ]
  },
  {
   "cell_type": "code",
   "execution_count": 38,
   "metadata": {},
   "outputs": [
    {
     "data": {
      "text/plain": [
       "['one', 'three', 'two']"
      ]
     },
     "execution_count": 38,
     "metadata": {},
     "output_type": "execute_result"
    }
   ],
   "source": [
    "mydict1 = {'one':1, 'two':2, 'three':3}\n",
    "sorted(mydict1)"
   ]
  },
  {
   "cell_type": "code",
   "execution_count": null,
   "metadata": {},
   "outputs": [],
   "source": []
  },
  {
   "cell_type": "markdown",
   "metadata": {},
   "source": [
    "### 5. map() 함수\n",
    "\n",
    "- 문법 : map(함수, 리스트)\n",
    "- 시퀀스의 모든 항목에 함수를 적용한 결과 리스트 반환"
   ]
  },
  {
   "cell_type": "code",
   "execution_count": 9,
   "metadata": {},
   "outputs": [
    {
     "data": {
      "text/plain": [
       "[1, 4, 9, 16, 25, 36, 49, 64, 81, 100]"
      ]
     },
     "execution_count": 9,
     "metadata": {},
     "output_type": "execute_result"
    }
   ],
   "source": [
    "def cube(x):\n",
    "    return x**2\n",
    "\n",
    "list(map(cube, range(1, 11)))"
   ]
  },
  {
   "cell_type": "code",
   "execution_count": null,
   "metadata": {},
   "outputs": [],
   "source": []
  },
  {
   "cell_type": "code",
   "execution_count": 58,
   "metadata": {},
   "outputs": [
    {
     "name": "stdout",
     "output_type": "stream",
     "text": [
      "0\n",
      "1\n",
      "4\n",
      "9\n",
      "16\n"
     ]
    }
   ],
   "source": [
    "for i in range(5):\n",
    "    print(i**2)"
   ]
  },
  {
   "cell_type": "code",
   "execution_count": null,
   "metadata": {},
   "outputs": [],
   "source": []
  },
  {
   "cell_type": "markdown",
   "metadata": {},
   "source": [
    "### 6. reduce() 함수\n",
    "- 주로 집계용으로 사용\n",
    "- 사용을 위해서는 functools 모듈 선언"
   ]
  },
  {
   "cell_type": "code",
   "execution_count": 3,
   "metadata": {},
   "outputs": [
    {
     "name": "stdout",
     "output_type": "stream",
     "text": [
      "15\n"
     ]
    }
   ],
   "source": [
    "from functools import reduce\n",
    "\n",
    "data = reduce(lambda x, y: x+y, [1, 2, 3, 4, 5])\n",
    "print(data)\n",
    "\n"
   ]
  },
  {
   "cell_type": "code",
   "execution_count": 52,
   "metadata": {},
   "outputs": [
    {
     "name": "stdout",
     "output_type": "stream",
     "text": [
      "15\n"
     ]
    }
   ],
   "source": [
    "#상단 reduce에 사용된 lambda의 로직을 단순 python 문법으로 개발한 코드\n",
    "\n",
    "def userReduce():\n",
    "    ?\n",
    "    \n",
    "\n",
    "userReduce()"
   ]
  },
  {
   "cell_type": "markdown",
   "metadata": {},
   "source": [
    "### 7. filter()\n",
    "\n",
    "- 데이터의 일부만 착출 가능한 기능의 즉 필터링 기능의 함수\n",
    "- 시퀀스의 항목들 중 함수 조건이 True인 항목만 추출\n",
    "- 문법 : filter(함수, 리스트)\n"
   ]
  },
  {
   "cell_type": "code",
   "execution_count": null,
   "metadata": {},
   "outputs": [],
   "source": []
  },
  {
   "cell_type": "markdown",
   "metadata": {},
   "source": [
    "**미션** : (123,) 값이 출력될 수 있도록 ? 부분 완성하세요"
   ]
  },
  {
   "cell_type": "code",
   "execution_count": 6,
   "metadata": {},
   "outputs": [],
   "source": [
    "list2 = (10,22,37,41,100,123,29)  "
   ]
  },
  {
   "cell_type": "code",
   "execution_count": null,
   "metadata": {},
   "outputs": [],
   "source": []
  },
  {
   "cell_type": "markdown",
   "metadata": {},
   "source": [
    "### 8. Collection 함수\n",
    "\n",
    "- 순서값과 요소값을 한번에 구하는 내장 함수\n",
    "- 기본 for문을 활용해서 학생 순번에 맞게 list 점수 출력\n",
    "- enumerate() 활용해서 순서와 요소값을 한번에 튜플로 반환"
   ]
  },
  {
   "cell_type": "code",
   "execution_count": 2,
   "metadata": {},
   "outputs": [
    {
     "name": "stdout",
     "output_type": "stream",
     "text": [
      "1번 학생의 성적 :  80\n",
      "2번 학생의 성적 :  30\n",
      "3번 학생의 성적 :  70\n",
      "4번 학생의 성적 :  85\n",
      "5번 학생의 성적 :  90\n"
     ]
    }
   ],
   "source": [
    "score = [80, 30, 70, 85, 90]\n",
    "\n",
    "for no in range(len(score)):\n",
    "    print(str(no+1) + '번 학생의 성적 : ', score[no])"
   ]
  },
  {
   "cell_type": "code",
   "execution_count": 15,
   "metadata": {},
   "outputs": [],
   "source": [
    "score = [80, 30, 70, 85, 90]\n",
    "\n"
   ]
  },
  {
   "cell_type": "code",
   "execution_count": null,
   "metadata": {},
   "outputs": [],
   "source": []
  }
 ],
 "metadata": {
  "kernelspec": {
   "display_name": "Python 3",
   "language": "python",
   "name": "python3"
  },
  "language_info": {
   "codemirror_mode": {
    "name": "ipython",
    "version": 3
   },
   "file_extension": ".py",
   "mimetype": "text/x-python",
   "name": "python",
   "nbconvert_exporter": "python",
   "pygments_lexer": "ipython3",
   "version": "3.8.5"
  }
 },
 "nbformat": 4,
 "nbformat_minor": 2
}
