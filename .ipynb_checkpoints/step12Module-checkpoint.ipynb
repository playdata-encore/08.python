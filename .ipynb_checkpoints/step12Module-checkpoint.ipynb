{
 "cells": [
  {
   "cell_type": "markdown",
   "metadata": {},
   "source": [
    "<!--NAVIGATION-->\n",
    "\n",
    "\n",
    "[[step11.Object Oriented Programming 학습 page로 이동](step11OOP.ipynb) ] | [[step13.Fiile IO 학습 page로 이동](step13FileIO.ipynb) ]"
   ]
  },
  {
   "cell_type": "markdown",
   "metadata": {},
   "source": [
    "### 모듈이란?\n",
    "\n",
    "> 1. 함수나 변수들을 모아 놓은 library들 의미<br>\n",
    "&nbsp;&nbsp; 외부 library들 사용하는 방법, 외부에 내 코드를 공유하는 방법<br>\n",
    "&nbsp;&nbsp; 파이썬 프로그램을 독립적으로 개발시의 확장자 - py<br>\n",
    "\n",
    "> 2. 모듈 사용 방법 <br>\n",
    "2-1. 모듈의 파일 확장자 : py <br>\n",
    "2-2. 모듈 사용 문법<br>\n",
    "  &nbsp;&nbsp;&nbsp; a. import file명 <br>\n",
    "  &nbsp;&nbsp;&nbsp; b. from file명 import 함수명<br>\n"
   ]
  },
  {
   "cell_type": "code",
   "execution_count": 1,
   "metadata": {},
   "outputs": [
    {
     "name": "stdout",
     "output_type": "stream",
     "text": [
      " C 드라이브의 볼륨에는 이름이 없습니다.\n",
      " 볼륨 일련 번호: A8EA-08A4\n",
      "\n",
      " C:\\ITStudy\\08.python 디렉터리\n",
      "\n",
      "2021-02-25  오후 03:29    <DIR>          .\n",
      "2021-02-25  오후 03:29    <DIR>          ..\n",
      "2021-02-23  오전 10:46                68 .gitattributes\n",
      "2021-02-25  오후 02:55    <DIR>          .ipynb_checkpoints\n",
      "2021-02-23  오전 10:46    <DIR>          img\n",
      "2021-02-23  오전 11:05             3,525 step01Calculation.ipynb\n",
      "2021-02-23  오후 02:19            11,481 step02ConditionLoop.ipynb\n",
      "2021-02-23  오후 05:03            44,891 step03_1DataType.ipynb\n",
      "2021-02-24  오전 10:13           477,305 step03_2Slice.ipynb\n",
      "2021-02-23  오후 05:44             4,071 step03_sub김재웅.ipynb\n",
      "2021-02-24  오전 10:21             7,601 step04StringType.ipynb\n",
      "2021-02-23  오전 02:01             8,190 step05ListTupleDictSet.ipynb\n",
      "2021-02-24  오후 12:32             6,865 step06VariableOperators.ipynb\n",
      "2021-02-24  오후 05:46            16,676 step07Function.ipynb\n",
      "2021-02-24  오후 05:58             2,779 step07_reviewTotal김재웅.ipynb\n",
      "2021-02-25  오전 10:54            17,836 step08Comprehension.ipynb\n",
      "2021-02-25  오전 11:06           322,793 step09_1Exception.ipynb\n",
      "2020-07-22  오후 09:07             5,844 step09_2goodCode.ipynb\n",
      "2021-02-25  오후 02:48            16,099 step10Class.ipynb\n",
      "2021-02-25  오후 03:07            34,669 step11OOP.ipynb\n",
      "2021-02-25  오후 03:29             3,427 step12Module.ipynb\n",
      "2021-02-23  오후 05:35             4,475 test.jpg\n",
      "              18개 파일             988,595 바이트\n",
      "               4개 디렉터리  134,828,417,024 바이트 남음\n"
     ]
    }
   ],
   "source": [
    "!dir"
   ]
  },
  {
   "cell_type": "code",
   "execution_count": 23,
   "metadata": {},
   "outputs": [
    {
     "name": "stdout",
     "output_type": "stream",
     "text": [
      "Overwriting fibo.py\n"
     ]
    }
   ],
   "source": [
    "%%writefile fibo.py\n",
    "\n",
    "def fib(n):\n",
    "    a, b = 0, 1\n",
    "    while b<n:\n",
    "        print(b, end=' ')\n",
    "        a, b = b, a+b\n",
    "        \n",
    "        \n",
    "if __name__ == \"__main__\":\n",
    "    print(\"python은 직접 명령어로 실행 시 자동 호출되는 영역\")"
   ]
  },
  {
   "cell_type": "code",
   "execution_count": 24,
   "metadata": {},
   "outputs": [
    {
     "data": {
      "text/plain": [
       "'fib'"
      ]
     },
     "execution_count": 24,
     "metadata": {},
     "output_type": "execute_result"
    }
   ],
   "source": [
    "import fibo \n",
    "fibo.fib.__name__"
   ]
  },
  {
   "cell_type": "markdown",
   "metadata": {},
   "source": [
    "python 명령어로 직접 프로그램 실행하는 방법\n",
    "\n",
    "도스창에선 >python file명.py"
   ]
  },
  {
   "cell_type": "code",
   "execution_count": 25,
   "metadata": {},
   "outputs": [
    {
     "name": "stdout",
     "output_type": "stream",
     "text": [
      "python은 직접 명령어로 실행 시 자동 호출되는 영역\n"
     ]
    }
   ],
   "source": [
    "!python fibo.py"
   ]
  },
  {
   "cell_type": "code",
   "execution_count": 12,
   "metadata": {},
   "outputs": [
    {
     "name": "stdout",
     "output_type": "stream",
     "text": [
      "1 1 2 3 "
     ]
    }
   ],
   "source": [
    "import fibo as f\n",
    "\n",
    "f.fib(5)"
   ]
  },
  {
   "cell_type": "code",
   "execution_count": 17,
   "metadata": {},
   "outputs": [
    {
     "name": "stdout",
     "output_type": "stream",
     "text": [
      "1 1 2 3 "
     ]
    }
   ],
   "source": [
    "#모듈명(파일명)과 함수명을 선언\n",
    "from fibo import fib\n",
    "fib(5)"
   ]
  },
  {
   "cell_type": "code",
   "execution_count": 18,
   "metadata": {},
   "outputs": [
    {
     "name": "stdout",
     "output_type": "stream",
     "text": [
      "1 1 2 3 "
     ]
    }
   ],
   "source": [
    "from fibo import *\n",
    "fib(5)"
   ]
  },
  {
   "cell_type": "code",
   "execution_count": 19,
   "metadata": {},
   "outputs": [
    {
     "name": "stdout",
     "output_type": "stream",
     "text": [
      "Writing mymath.py\n"
     ]
    }
   ],
   "source": [
    "%%writefile mymath.py\n",
    "\n",
    "# jupyter notebook에서 python 파일 생성하는 명령어\n",
    "\n",
    "\n",
    "mypi = 3.14\n",
    "def add(a,b):\n",
    "    return a+b\n",
    "\n",
    "def area(r):\n",
    "    return r*r*mypi"
   ]
  },
  {
   "cell_type": "markdown",
   "metadata": {},
   "source": [
    "**미션- mymath 모듈의 각 메소드 호출 및 출력해 보기**"
   ]
  },
  {
   "cell_type": "code",
   "execution_count": 21,
   "metadata": {},
   "outputs": [
    {
     "name": "stdout",
     "output_type": "stream",
     "text": [
      "3\n",
      "12.56\n"
     ]
    }
   ],
   "source": [
    "from mymath import add, area\n",
    "\n",
    "print(add(1,2))\n",
    "print(area(2))"
   ]
  },
  {
   "cell_type": "code",
   "execution_count": null,
   "metadata": {},
   "outputs": [],
   "source": []
  },
  {
   "cell_type": "markdown",
   "metadata": {},
   "source": [
    "만일 기능들로만 구성된 모듈을 개발할 경우엔 __name__ 특수 표기의 속성 불필요\n",
    "\n",
    "단, 해당 py 파일을 독립적으로 실행하기 위해서는 java에서 main() 없이 실행 불가였던 것 처럼\n",
    "if __name__=\"__main__\": 표기는 필수 로직별 호출 시작...\n"
   ]
  },
  {
   "cell_type": "code",
   "execution_count": null,
   "metadata": {},
   "outputs": [],
   "source": []
  }
 ],
 "metadata": {
  "kernelspec": {
   "display_name": "Python 3",
   "language": "python",
   "name": "python3"
  },
  "language_info": {
   "codemirror_mode": {
    "name": "ipython",
    "version": 3
   },
   "file_extension": ".py",
   "mimetype": "text/x-python",
   "name": "python",
   "nbconvert_exporter": "python",
   "pygments_lexer": "ipython3",
   "version": "3.8.5"
  }
 },
 "nbformat": 4,
 "nbformat_minor": 2
}
