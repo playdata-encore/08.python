{
 "cells": [
  {
   "cell_type": "markdown",
   "metadata": {},
   "source": [
    "[[step12. Module 학습 page로 이동](step12Module.ipynb) ] | [[step14. 정규표현식 학습 page로 이동](step14RegExp.ipynb) ]"
   ]
  },
  {
   "cell_type": "markdown",
   "metadata": {},
   "source": [
    "### 1. 논리적인 파일 구조(데이터 입출력, IO)\n",
    "* 데이터 입출력 기본 : 오픈 -> 사용 -> 자원반환\n",
    "\n",
    ">1. 파일 안에는 바이트들이 순차적으로 저장되어 있고 맨 끝에는 EOF(end-of-file) 마커가 있음\n",
    "\n",
    ">2. 모든 파일은 입출력 동작이 발생하는 위치를 나타내는 위치 표시자(position indicator)를 가지고 있음\n",
    "\n",
    ">3. 텍스트 파일 읽고 쓰기<br>\n",
    "   - open(\"file 이름\", 파일열기모드, 인코딩)<br>\n",
    "   - 파일 열기 모드<br>\n",
    "       1. r : 읽기 모드(파일의 처음부터 read)<br>\n",
    "       2. w : 쓰기 모드(파일의 처음부터 쓰기, 파일이 없으면 생성, 존재하면 기존 내용은 지우고 새로 작성)<br>\n",
    "       3. a : 추가 모드(파일의 끝에 씀, 파일이 없으면 생성)<br>\n",
    "       4. r+ : 읽기 쓰기 모드(파일에 읽고 쓸수 있는 모드)\n",
    "    \n",
    ">4. test를 위한 데이터(파일들) 위치 : dataSet이라는 폴더에 저장되어 있음    "
   ]
  },
  {
   "cell_type": "markdown",
   "metadata": {},
   "source": [
    "output.txt 파일 생성 및 데이터 출력\n",
    "\n",
    "한글 데이터 고려 - utf-8\n",
    "\n",
    "- 파일 생성 -> 데이터 출력 "
   ]
  },
  {
   "cell_type": "code",
   "execution_count": 6,
   "metadata": {},
   "outputs": [],
   "source": [
    "f = open('output.txt', 'w', encoding='utf-8') #'w'는 쓰기\n",
    "f.write('file 데이터 출력')\n",
    "f.write('\\ntest')\n",
    "f.write('\\ndata')\n",
    "f.close()"
   ]
  },
  {
   "cell_type": "markdown",
   "metadata": {},
   "source": [
    "파일 읽기"
   ]
  },
  {
   "cell_type": "code",
   "execution_count": 7,
   "metadata": {},
   "outputs": [
    {
     "name": "stdout",
     "output_type": "stream",
     "text": [
      " C 드라이브의 볼륨에는 이름이 없습니다.\n",
      " 볼륨 일련 번호: A8EA-08A4\n",
      "\n",
      " C:\\ITStudy\\08.python 디렉터리\n",
      "\n",
      "2021-02-25  오후 03:55    <DIR>          .\n",
      "2021-02-25  오후 03:55    <DIR>          ..\n",
      "2021-02-23  오전 10:46                68 .gitattributes\n",
      "2021-02-25  오후 03:53    <DIR>          .ipynb_checkpoints\n",
      "2021-02-25  오후 03:49    <DIR>          dataSet\n",
      "2021-02-25  오후 03:41               228 fibo.py\n",
      "2021-02-23  오전 10:46    <DIR>          img\n",
      "2021-02-25  오후 03:39               150 mymath.py\n",
      "2021-02-25  오후 03:56                33 output.txt\n",
      "2021-02-23  오전 11:05             3,525 step01Calculation.ipynb\n",
      "2021-02-23  오후 02:19            11,481 step02ConditionLoop.ipynb\n",
      "2021-02-23  오후 05:03            44,891 step03_1DataType.ipynb\n",
      "2021-02-24  오전 10:13           477,305 step03_2Slice.ipynb\n",
      "2021-02-23  오후 05:44             4,071 step03_sub김재웅.ipynb\n",
      "2021-02-24  오전 10:21             7,601 step04StringType.ipynb\n",
      "2021-02-23  오전 02:01             8,190 step05ListTupleDictSet.ipynb\n",
      "2021-02-24  오후 12:32             6,865 step06VariableOperators.ipynb\n",
      "2021-02-24  오후 05:46            16,676 step07Function.ipynb\n",
      "2021-02-24  오후 05:58             2,779 step07_reviewTotal김재웅.ipynb\n",
      "2021-02-25  오전 10:54            17,836 step08Comprehension.ipynb\n",
      "2021-02-25  오전 11:06           322,793 step09_1Exception.ipynb\n",
      "2020-07-22  오후 09:07             5,844 step09_2goodCode.ipynb\n",
      "2021-02-25  오후 02:48            16,099 step10Class.ipynb\n",
      "2021-02-25  오후 03:07            34,669 step11OOP.ipynb\n",
      "2021-02-25  오후 03:44             7,417 step12Module.ipynb\n",
      "2021-02-25  오후 03:55             9,564 step13FileIO.ipynb\n",
      "2021-02-24  오후 10:44           267,419 step14RegExp.ipynb\n",
      "2021-02-23  오후 05:35             4,475 test.jpg\n",
      "2021-02-25  오후 03:40    <DIR>          __pycache__\n",
      "              23개 파일           1,269,979 바이트\n",
      "               6개 디렉터리  134,821,359,616 바이트 남음\n"
     ]
    }
   ],
   "source": [
    "!dir"
   ]
  },
  {
   "cell_type": "markdown",
   "metadata": {},
   "source": [
    "필수인 자원 반환을 자동으로 적용되게 코드 수정\n",
    "\n",
    "with로 시작되는 IO는 close() 자동 호출"
   ]
  },
  {
   "cell_type": "code",
   "execution_count": 8,
   "metadata": {},
   "outputs": [
    {
     "name": "stdout",
     "output_type": "stream",
     "text": [
      "file 데이터 출력\n",
      "test\n",
      "data\n"
     ]
    }
   ],
   "source": [
    "with open('output.txt', 'r', encoding='utf-8') as f:\n",
    "    print(f.read())\n"
   ]
  },
  {
   "cell_type": "markdown",
   "metadata": {},
   "source": [
    "줄단위로 파일에 쓰기\n",
    "\n",
    "- writelines()\n",
    "- join()"
   ]
  },
  {
   "cell_type": "code",
   "execution_count": 17,
   "metadata": {},
   "outputs": [],
   "source": [
    "lines = ['a\\n','b\\n']\n",
    "with open('dataSet/output.txt', 'w', encoding='utf-8') as f:\n",
    "    f.writelines(lines)"
   ]
  },
  {
   "cell_type": "code",
   "execution_count": 19,
   "metadata": {},
   "outputs": [],
   "source": [
    "lines = ['a','b'] # 그냥 붙어서 쭉 써짐\n",
    "with open('dataSet/output.txt', 'w', encoding='utf-8') as f:\n",
    "    f.writelines(lines)"
   ]
  },
  {
   "cell_type": "code",
   "execution_count": 18,
   "metadata": {},
   "outputs": [],
   "source": [
    "with open('dataSet/output.txt', 'r', encoding='utf-8') as f:\n",
    "    f.readlines()"
   ]
  },
  {
   "cell_type": "markdown",
   "metadata": {},
   "source": [
    "파일 데이터 읽기\n",
    "\n",
    "- read() : file의 모든 내용 read\n",
    "- readline() : file의 한 line read\n",
    "- readlines() : file의 모든 내용을 list 형태로 read"
   ]
  },
  {
   "cell_type": "code",
   "execution_count": null,
   "metadata": {},
   "outputs": [],
   "source": []
  },
  {
   "cell_type": "code",
   "execution_count": null,
   "metadata": {},
   "outputs": [],
   "source": []
  },
  {
   "cell_type": "markdown",
   "metadata": {},
   "source": [
    "**미션 - dataSet이라는 폴더 하위에 poem.txt 내용 read해서 콘솔에 출력**"
   ]
  },
  {
   "cell_type": "code",
   "execution_count": null,
   "metadata": {},
   "outputs": [],
   "source": []
  },
  {
   "cell_type": "markdown",
   "metadata": {},
   "source": [
    "**미션 - dataSet.txt 파일을 만들고 #으로 시작하는 문장만 출력해 보기**\n",
    "- startwith() \n",
    "- 참고 : %%file dataSet.txt, 별도의 cell에 독립적으로 코딩시 실행 불가"
   ]
  },
  {
   "cell_type": "code",
   "execution_count": 50,
   "metadata": {},
   "outputs": [
    {
     "name": "stdout",
     "output_type": "stream",
     "text": [
      "Overwriting dataSet.txt\n"
     ]
    }
   ],
   "source": [
    "%%file dataSet.txt   \n",
    "\n",
    "NumPy is the fundamental package for scientific computing with Python. It contains among other things:\n",
    "\n",
    "# comment1..\n",
    "\n",
    "  * a powerful N-dimensional array object\n",
    "  * sophisticated (broadcasting) functions\n",
    "  * tools for integrating C/C++ and Fortran code\n",
    "  * useful linear algebra, Fourier transform, and random number capabilities\n",
    "\n",
    "# comment2..\n",
    "\n",
    "Besides its obvious scientific uses, NumPy can also be used as an efficient multi-dimensional container of generic data. Arbitrary data-types can be defined. This allows NumPy to seamlessly and speedily integrate with a wide variety of databases.\n",
    "\n",
    "Numpy is licensed under the BSD license, enabling reuse with few restrictions."
   ]
  },
  {
   "cell_type": "markdown",
   "metadata": {},
   "source": [
    "답안 "
   ]
  },
  {
   "cell_type": "code",
   "execution_count": null,
   "metadata": {},
   "outputs": [],
   "source": [
    "  "
   ]
  },
  {
   "cell_type": "markdown",
   "metadata": {},
   "source": [
    "**미션-줄 앞에 번호붙이기**\n",
    "\n",
    "- 텍스트 파일을 열어서 각 줄의 앞에 번호를 매겨서 다시 파일에 쓰는 프로그램을 작성해보자<br>\n",
    "- 참조 파일명 : dataSet/lineInsert.txt (dataSet 폴더에 있음)\n"
   ]
  },
  {
   "cell_type": "code",
   "execution_count": null,
   "metadata": {},
   "outputs": [],
   "source": []
  },
  {
   "cell_type": "markdown",
   "metadata": {},
   "source": [
    "**미션-매출 파일 처리**\n",
    "\n",
    "- 텍스트 파일에 상점의 매출이 저장되어 있다. read해서 평균 매출과 총 매출을 계산한 후에 'result.txt'라는 파일에 출력하는 프로그램 작성해 보기<br>\n",
    "- 참조 파일명 : dataSet/sales.txt \n",
    "- 출력 형식 \n",
    "\n",
    "> 총매출 = 1000<br>\n",
    "평균 매출 = 200.0"
   ]
  },
  {
   "cell_type": "code",
   "execution_count": 59,
   "metadata": {},
   "outputs": [],
   "source": []
  },
  {
   "cell_type": "code",
   "execution_count": 60,
   "metadata": {},
   "outputs": [],
   "source": []
  },
  {
   "cell_type": "code",
   "execution_count": null,
   "metadata": {},
   "outputs": [],
   "source": []
  },
  {
   "cell_type": "code",
   "execution_count": null,
   "metadata": {},
   "outputs": [],
   "source": []
  }
 ],
 "metadata": {
  "kernelspec": {
   "display_name": "Python 3",
   "language": "python",
   "name": "python3"
  },
  "language_info": {
   "codemirror_mode": {
    "name": "ipython",
    "version": 3
   },
   "file_extension": ".py",
   "mimetype": "text/x-python",
   "name": "python",
   "nbconvert_exporter": "python",
   "pygments_lexer": "ipython3",
   "version": "3.8.5"
  }
 },
 "nbformat": 4,
 "nbformat_minor": 2
}
