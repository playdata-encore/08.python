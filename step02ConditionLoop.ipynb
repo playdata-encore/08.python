{
 "cells": [
  {
   "cell_type": "markdown",
   "metadata": {},
   "source": [
    "<!--NAVIGATION-->\n",
    "\n",
    "\n",
    "[[step01. 기본 연산 학습 page로 이동](step01Calculation.ipynb) ]   |   [[step03_1. 데이터 타입 학습 page로 이동](step03_1DataType.ipynb) ]"
   ]
  },
  {
   "cell_type": "markdown",
   "metadata": {},
   "source": [
    "## 조건문 & 반복문을 이용한 프로그램 응용력 향상하기\n",
    "\n",
    "1. 연산자\n",
    "- 조건식\n",
    "\n",
    "> 1. pass : 아무것도 실행하지 않음, 단순히 실행할 코드가 없다는 의미\n",
    "> 2. continue : 해당 로직을 제외하고 다음 loop 실행하란 의미\n",
    "\n",
    "3. 반복문 : 동일한 명령문을 여러번 실행\n",
    "\n",
    "> 1. for : 정해진 횟수만큼  반복하는 구조<br>\n",
    "> 2. while : 어떤 조건이 만족되는 동안, 반복을 계속하는 구조"
   ]
  },
  {
   "cell_type": "code",
   "execution_count": null,
   "metadata": {},
   "outputs": [],
   "source": []
  },
  {
   "cell_type": "markdown",
   "metadata": {},
   "source": [
    "**미션1. 윤년  프로그램을 통한 연산자 및 조건식 이해하기**\n",
    "\n",
    "1. 4로 나누어 떨어지는 년도 : 값 % 4이 0    \n",
    "- 그 중 100으로 나누어 떨어지는 년도는 윤년이 아님 : 값 % 100 의 0과 비교\n",
    "- 400으로 나누어 떨어지는 년도는 무조건 윤년 : 1+2 또는 3번째 조건식 비교( 값 % 400와 0 비교)"
   ]
  },
  {
   "cell_type": "code",
   "execution_count": null,
   "metadata": {},
   "outputs": [],
   "source": []
  },
  {
   "cell_type": "markdown",
   "metadata": {},
   "source": [
    "**미션2. 문자열의 중간 문자를 추출해 보기**\n",
    "\n",
    "문자열의 중앙에 있는 문자를 출력한다. 예를 들어서 문자열이 \"weekday\"이라면 중앙의 문자는 \"k\"가 된다.<br>\n",
    "하지만 만약 문자열이 짝수개의 문자를 가지고 있다면 중앙의 2개의 글자를 출력한다.<br>\n",
    "예를 들어서 \"string\" 문자열에서는 \"ri\"를 반환한다. "
   ]
  },
  {
   "cell_type": "code",
   "execution_count": null,
   "metadata": {},
   "outputs": [],
   "source": []
  },
  {
   "cell_type": "markdown",
   "metadata": {},
   "source": [
    "**미션3. 임금 계산해 보기**\n",
    "\n",
    "사용자에게 근무 시간과 시간당 임금을 물어보고, 주당 근무 시간이 40시간을 넘으면 1.5배의 임금을 지급해야 한다고 가정할 경우<br> \n",
    "이번주에 받는 총임금을 계산하는 프로그램을 만들어 보자"
   ]
  },
  {
   "cell_type": "code",
   "execution_count": null,
   "metadata": {},
   "outputs": [],
   "source": []
  },
  {
   "cell_type": "markdown",
   "metadata": {},
   "source": [
    "## 반복문"
   ]
  },
  {
   "cell_type": "code",
   "execution_count": null,
   "metadata": {},
   "outputs": [],
   "source": []
  },
  {
   "cell_type": "markdown",
   "metadata": {},
   "source": [
    "**미션 - 숫자로 pyramid 만들기**\n",
    "\n",
    "- 중첩 for문과 range() 함수 활용"
   ]
  },
  {
   "cell_type": "code",
   "execution_count": null,
   "metadata": {},
   "outputs": [],
   "source": []
  },
  {
   "cell_type": "markdown",
   "metadata": {},
   "source": [
    "**미션- 팩토리얼 계산하기**\n",
    ">반복문을 활용하여 팩토리얼 계산해 보기<br>\n",
    "for문과 while문을 활용하여 각각 만들어 보기<br>\n",
    "팩토리얼 n!은 1~n까지의 정수를 모두 곱한 것을 의미한다<br>\n",
    "n! = 1*2*3*...(n-1)*n\n",
    "\n",
    ">힌트 : range() 함수를 이용"
   ]
  },
  {
   "cell_type": "code",
   "execution_count": null,
   "metadata": {},
   "outputs": [],
   "source": []
  },
  {
   "cell_type": "markdown",
   "metadata": {},
   "source": [
    "**미션-계좌번호 처리하기**\n",
    "\n",
    "> 인터넷 뱅킹을 사용하다보면 계좌번호를 입력할 때, \"312-02-1234567\"과 사용자로부터 \"-\"가 포함된 계좌 번호를 받아서 \"-\"을 삭제한 문자열을 만들어보자. \n"
   ]
  },
  {
   "cell_type": "code",
   "execution_count": null,
   "metadata": {},
   "outputs": [],
   "source": []
  },
  {
   "cell_type": "markdown",
   "metadata": {},
   "source": [
    "**미션 - 알파벳, 숫자, 스페이스의 처리**\n",
    "\n",
    "> 문자열을 조사하여서 알파벳 문자의 개수, 숫자의 개수, 스페이스의 개수를 출력하는 프로그램을 작성하라"
   ]
  },
  {
   "cell_type": "code",
   "execution_count": null,
   "metadata": {},
   "outputs": [],
   "source": []
  },
  {
   "cell_type": "markdown",
   "metadata": {},
   "source": [
    "**실행 결과와 비교해 보면서 분석해 보기**"
   ]
  },
  {
   "cell_type": "code",
   "execution_count": 1,
   "metadata": {},
   "outputs": [
    {
     "name": "stdout",
     "output_type": "stream",
     "text": [
      "3 4 5\n",
      "4 3 5\n",
      "5 12 13\n",
      "6 8 10\n",
      "7 24 25\n",
      "8 6 10\n",
      "8 15 17\n",
      "9 12 15\n",
      "9 40 41\n",
      "10 24 26\n",
      "11 60 61\n",
      "12 5 13\n",
      "12 9 15\n",
      "12 16 20\n",
      "12 35 37\n",
      "13 84 85\n",
      "14 48 50\n",
      "15 8 17\n",
      "15 20 25\n",
      "15 36 39\n",
      "16 12 20\n",
      "16 30 34\n",
      "16 63 65\n",
      "18 24 30\n",
      "18 80 82\n",
      "20 15 25\n",
      "20 21 29\n",
      "20 48 52\n",
      "21 20 29\n",
      "21 28 35\n",
      "21 72 75\n",
      "24 7 25\n",
      "24 10 26\n",
      "24 18 30\n",
      "24 32 40\n",
      "24 45 51\n",
      "24 70 74\n",
      "25 60 65\n",
      "27 36 45\n",
      "28 21 35\n",
      "28 45 53\n",
      "28 96 100\n",
      "30 16 34\n",
      "30 40 50\n",
      "30 72 78\n",
      "32 24 40\n",
      "32 60 68\n",
      "33 44 55\n",
      "33 56 65\n",
      "35 12 37\n",
      "35 84 91\n",
      "36 15 39\n",
      "36 27 45\n",
      "36 48 60\n",
      "36 77 85\n",
      "39 52 65\n",
      "39 80 89\n",
      "40 9 41\n",
      "40 30 50\n",
      "40 42 58\n",
      "40 75 85\n",
      "42 40 58\n",
      "42 56 70\n",
      "44 33 55\n",
      "45 24 51\n",
      "45 28 53\n",
      "45 60 75\n",
      "48 14 50\n",
      "48 20 52\n",
      "48 36 60\n",
      "48 55 73\n",
      "48 64 80\n",
      "51 68 85\n",
      "52 39 65\n",
      "54 72 90\n",
      "55 48 73\n",
      "56 33 65\n",
      "56 42 70\n",
      "57 76 95\n",
      "60 11 61\n",
      "60 25 65\n",
      "60 32 68\n",
      "60 45 75\n",
      "60 63 87\n",
      "60 80 100\n",
      "63 16 65\n",
      "63 60 87\n",
      "64 48 80\n",
      "65 72 97\n",
      "68 51 85\n",
      "70 24 74\n",
      "72 21 75\n",
      "72 30 78\n",
      "72 54 90\n",
      "72 65 97\n",
      "75 40 85\n",
      "76 57 95\n",
      "77 36 85\n",
      "80 18 82\n",
      "80 39 89\n",
      "80 60 100\n",
      "84 13 85\n",
      "84 35 91\n",
      "96 28 100\n"
     ]
    }
   ],
   "source": [
    "for a in range(1, 101, 1):\n",
    "    for b in range(1, 101, 1):\n",
    "        for c in range(1, 101, 1):\n",
    "            if( (a*a+b*b)==c*c ):\n",
    "                print(a, b, c)"
   ]
  },
  {
   "cell_type": "code",
   "execution_count": null,
   "metadata": {},
   "outputs": [],
   "source": []
  }
 ],
 "metadata": {
  "kernelspec": {
   "display_name": "Python 3",
   "language": "python",
   "name": "python3"
  },
  "language_info": {
   "codemirror_mode": {
    "name": "ipython",
    "version": 3
   },
   "file_extension": ".py",
   "mimetype": "text/x-python",
   "name": "python",
   "nbconvert_exporter": "python",
   "pygments_lexer": "ipython3",
   "version": "3.8.5"
  }
 },
 "nbformat": 4,
 "nbformat_minor": 2
}
