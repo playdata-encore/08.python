{
 "cells": [
  {
   "cell_type": "code",
   "execution_count": 2,
   "metadata": {},
   "outputs": [],
   "source": [
    "data = '''내 속엔 내가 너무도 많아 당신의 쉴 곳 없네\n",
    "내 속엔 헛된바램들로 당신의 편할 곳 없네\n",
    "내 속엔 내가 어쩔 수 없는 어둠 당신의 쉴 자리를 뺏고\n",
    "내 속엔 내가 이길 수 없는 슬픔 무성한 가시나무숲같네\n",
    "바람만 불면 그 메마른가지 서로 부대끼며 울어대고\n",
    "쉴곳을 찾아 지쳐 날아온 어린새들도 가시에 찔려 날아가고\n",
    "바람만 불면 외롭고 또 괴로워 슬픈 노래를 부르던 날이 많았는데\n",
    "내 속엔 내가 너무도 많아서 당신의 쉴 곳 없네\n",
    "바람만 불면 그 메마른가지 서로 부대끼며 울어대고\n",
    "쉴곳을 찾아 지쳐 날아온 어린새들도 가시에 찔려 날아가고\n",
    "바람만 불면 외롭고 또 괴로워 슬픈 노래를 부르던 날이 많았는데\n",
    "내 속엔 내가 너무도 많아서 당신의 쉴 곳 없네'''"
   ]
  },
  {
   "cell_type": "code",
   "execution_count": 4,
   "metadata": {},
   "outputs": [
    {
     "name": "stdout",
     "output_type": "stream",
     "text": [
      "{'내': 11, '속': 6, '엔': 6, '가': 12, '너': 3, '무': 5, '도': 5, '많': 5, '아': 9, '당': 5, '신': 5, '의': 5, '쉴': 6, '곳': 6, '없': 6, '네': 5, '헛': 1, '된': 1, '바': 5, '램': 1, '들': 3, '로': 5, '편': 1, '할': 1, '어': 6, '쩔': 1, '수': 2, '는': 4, '둠': 1, '자': 1, '리': 1, '를': 3, '뺏': 1, '고': 7, '이': 3, '길': 1, '슬': 3, '픔': 1, '성': 1, '한': 1, '시': 3, '나': 1, '숲': 1, '같': 1, '람': 4, '만': 4, '불': 4, '면': 4, '그': 2, '메': 2, '마': 2, '른': 2, '지': 4, '서': 4, '부': 4, '대': 4, '끼': 2, '며': 2, '울': 2, '을': 2, '찾': 2, '쳐': 2, '날': 6, '온': 2, '린': 2, '새': 2, '에': 2, '찔': 2, '려': 2, '외': 2, '롭': 2, '또': 2, '괴': 2, '워': 2, '픈': 2, '노': 2, '래': 2, '르': 2, '던': 2, '았': 2, '데': 2}\n"
     ]
    }
   ],
   "source": [
    "letterDict = {}\n",
    "for letter in data:\n",
    "    if letter != ' ' and letter != '\\n':\n",
    "        letterDict[letter] = letterDict[letter] + 1 if letter in letterDict else 1\n",
    "print((letterDict))"
   ]
  },
  {
   "cell_type": "code",
   "execution_count": 5,
   "metadata": {},
   "outputs": [
    {
     "name": "stdout",
     "output_type": "stream",
     "text": [
      "검색어를 입력하세요 : 판다\n",
      "https://encrypted-tbn0.gstatic.com/images?q=tbn:ANd9GcQ6xeoNkTz4CZhEFg1iqOgGCVAYmdc-Iy1K-WMvRUCwS9K9jpEqnVFzlG_morI&amp;s\n"
     ]
    },
    {
     "data": {
      "text/plain": [
       "True"
      ]
     },
     "execution_count": 5,
     "metadata": {},
     "output_type": "execute_result"
    }
   ],
   "source": [
    "import requests\n",
    "import random\n",
    "from bs4 import BeautifulSoup\n",
    "import webbrowser\n",
    "\n",
    "results = []\n",
    "req = requests.get('https://www.google.com/search?tbm=isch&q=' + input('검색어를 입력하세요 : '))\n",
    "html = req.text\n",
    "soup = BeautifulSoup(html, 'html.parser')\n",
    "\n",
    "for i in str(soup).split(' '):\n",
    "    if i.startswith('src'):\n",
    "        results.append(i.split('\"')[1])\n",
    "\n",
    "print(results[int(random.random()*len(results))])\n",
    "webbrowser.open(results[int(random.random()*len(results))])"
   ]
  },
  {
   "cell_type": "code",
   "execution_count": null,
   "metadata": {},
   "outputs": [],
   "source": []
  }
 ],
 "metadata": {
  "kernelspec": {
   "display_name": "Python 3",
   "language": "python",
   "name": "python3"
  },
  "language_info": {
   "codemirror_mode": {
    "name": "ipython",
    "version": 3
   },
   "file_extension": ".py",
   "mimetype": "text/x-python",
   "name": "python",
   "nbconvert_exporter": "python",
   "pygments_lexer": "ipython3",
   "version": "3.8.5"
  }
 },
 "nbformat": 4,
 "nbformat_minor": 4
}
