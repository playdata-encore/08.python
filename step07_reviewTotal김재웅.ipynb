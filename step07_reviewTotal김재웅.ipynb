{
 "cells": [
  {
   "cell_type": "markdown",
   "metadata": {},
   "source": [
    "갑돌이는 어느날 자신의 친구들이 어느 반경 내에 있는지 궁금해졌다. 친구들의 위치가 담긴 리스트가 주어졌을때, 갑돌이의 위치로부터 가장 작은 원을 그려 모두의 위치가 포함될 수 있도록 하는 반지름에 해당하는 친구의 번호를 구하라 (순서대로 0,1,2,3 번이라고 가정)\n",
    "\n"
   ]
  },
  {
   "cell_type": "code",
   "execution_count": 30,
   "metadata": {},
   "outputs": [
    {
     "name": "stdout",
     "output_type": "stream",
     "text": [
      "[(37.571681, 126.981115), [(37.673545, 126.786545), (37.425255, 126.856768), (37.673752, 126.434525), (37.877625, 126.425727)]]\n"
     ]
    }
   ],
   "source": [
    "sampleData = [\n",
    "        (37.571681, 126.981115),\n",
    "        [\n",
    "            (37.673545, 126.786545),\n",
    "            (37.425255, 126.856768),\n",
    "            (37.673752, 126.434525),\n",
    "            (37.877625, 126.425727)\n",
    "        ]\n",
    "    ]\n",
    "print(sampleData)"
   ]
  },
  {
   "cell_type": "code",
   "execution_count": 31,
   "metadata": {},
   "outputs": [],
   "source": [
    "def radiusFinder(data):\n",
    "    ? "
   ]
  },
  {
   "cell_type": "code",
   "execution_count": 73,
   "metadata": {},
   "outputs": [
    {
     "name": "stdout",
     "output_type": "stream",
     "text": [
      "3\n"
     ]
    }
   ],
   "source": [
    "print(minFinder(sampleData))"
   ]
  },
  {
   "cell_type": "code",
   "execution_count": 76,
   "metadata": {},
   "outputs": [],
   "source": [
    "def minFinder(data):\n",
    "    answer = r = 0\n",
    "    spx, spy = data[0]\n",
    "    for index, (px, py) in enumerate(data[1]):\n",
    "        tempR = radiusFinder(spx, spy, px, py)\n",
    "        if tempR >= r:\n",
    "            r = tempR\n",
    "            answer = index\n",
    "    return answer\n",
    "\n",
    "radiusFinder = lambda x1, y1, x2, y2 : ((x1 - x2) ** 2 + (y1 - y2) ** 2) ** 0.5"
   ]
  },
  {
   "cell_type": "code",
   "execution_count": 77,
   "metadata": {},
   "outputs": [
    {
     "name": "stdout",
     "output_type": "stream",
     "text": [
      "3\n"
     ]
    }
   ],
   "source": [
    "print(minFinder(sampleData))\n"
   ]
  }
 ],
 "metadata": {
  "kernelspec": {
   "display_name": "Python 3",
   "language": "python",
   "name": "python3"
  },
  "language_info": {
   "codemirror_mode": {
    "name": "ipython",
    "version": 3
   },
   "file_extension": ".py",
   "mimetype": "text/x-python",
   "name": "python",
   "nbconvert_exporter": "python",
   "pygments_lexer": "ipython3",
   "version": "3.8.5"
  }
 },
 "nbformat": 4,
 "nbformat_minor": 4
}
