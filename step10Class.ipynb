{
 "cells": [
  {
   "cell_type": "markdown",
   "metadata": {},
   "source": [
    "<!--NAVIGATION-->\n",
    "\n",
    "[[step09. Assert문 학습 page로 이동](step09_2goodCode.ipynb) ] | \n",
    "[[step11.Object Oriented Programming 학습 page로 이동](step11OOP.ipynb) ]"
   ]
  },
  {
   "cell_type": "markdown",
   "metadata": {},
   "source": [
    "# 사용자 정의 파이썬 클래스 개발 방법 학습\n",
    "- 주요 키워드 및 기호 : self, __\n",
    "- 자바와 비교시 : 데이터 표현 전용 구조의 클래스(DTO/VO/Bean)\n",
    "    - 자바의 문법 : 멤버변수, 기본생성자, 생성자, getXxx()/setXxx()/toString()..<br>\n",
    "    - 자바의 상위 클래스 : Object<br><br>\n",
    "    \n",
    "    - python 문법 : 멤버변수, __init__(), 사용자 정의 함수명,__str__()\n",
    "    - python 상위 클래스 : Object<br><br>\n",
    "    "
   ]
  },
  {
   "cell_type": "markdown",
   "metadata": {},
   "source": [
    "### 1. 파이썬 클래스 \n",
    "\n",
    "- 사용자 정의 클래스 개발 방법\n",
    "\n",
    "\n",
    "- 멤버 변수의 종류<br>\n",
    "- 클래스 변수 : 객체를 통들어서 하나만 생성되고 모든 객체가 공유하는 변수<br>\n",
    "- 인스턴스 변수  : 생성되는 객체 즉 인스턴스별로 별도로 생성되는 변수<br>\n",
    "- 주요 키워드 : self가 적용된 변수는 모두 다 instance 변수 \n",
    "\n",
    "- 접근자 : 정보 은닉 및 유효성 검증을 위해 private으로 정의하는 방법 - 변수명 앞단에 __ 선언\n",
    "\n",
    "- 특수 메소드\n",
    "\n",
    "\n",
    "> 자바와 비교시 : 멤버 변수 관점\n",
    "- static 변수 - static 키워드로 선언 : 객체 생성없이 사용 가능\n",
    "- instance 변수 - non-static 으로 선언 : 객체 생성 필수(instance)\n",
    "\n",
    "> 자바와 비교시 : 접근자 관점(access modifier)\n",
    "- private/default/protected/public 4가지 <br>\n",
    "- python에선 public(무) 또는 private (__)\n",
    "\n",
    "\n",
    "> 용어\n",
    "1. 메소드 : 클래스 내부에 구현되는 기능<br>\n",
    "2. 함수 : 클래스와 독립적으로 구현되는 기능<br>"
   ]
  },
  {
   "cell_type": "markdown",
   "metadata": {},
   "source": [
    "**파이썬 클래스 개발 문법**\n",
    "\n",
    "1. class 키워드\n",
    "- 생성자 : __init__(self)\n",
    "- 클래스 내에 구현하는 함수의 첫번째 parameter : self\n",
    "- 멤버 변수 선언 문법 : init() 내부에 self.변수명"
   ]
  },
  {
   "cell_type": "markdown",
   "metadata": {},
   "source": [
    "### 2. 인스턴스 및 클래스 변수\n",
    ">  독립된 함수 개발 및 호출, 클래스 내부에 구현하는 내장 함수"
   ]
  },
  {
   "cell_type": "code",
   "execution_count": 1,
   "metadata": {},
   "outputs": [],
   "source": [
    "# 독립적인 함수\n",
    "def getIntValue():\n",
    "    print(\"클래스 외부의 getIntValue() 함수\")\n",
    "    return 20"
   ]
  },
  {
   "cell_type": "code",
   "execution_count": 2,
   "metadata": {},
   "outputs": [
    {
     "name": "stdout",
     "output_type": "stream",
     "text": [
      "클래스 외부의 getIntValue() 함수\n"
     ]
    },
    {
     "data": {
      "text/plain": [
       "20"
      ]
     },
     "execution_count": 2,
     "metadata": {},
     "output_type": "execute_result"
    }
   ],
   "source": [
    "data = getIntValue()\n",
    "data"
   ]
  },
  {
   "cell_type": "code",
   "execution_count": 3,
   "metadata": {},
   "outputs": [],
   "source": [
    "# 사용자 정의 클래스 + 메소드, 변수 -> class 변수(필요성)\n",
    "# 클래스명은 대소대소 카멜표기법 권장()\n",
    "class UserClass:\n",
    "    \n",
    "    # 생성자, self parameter 필수\n",
    "    def __init__(self, data): # 호출시 UserClass(data변수값)\n",
    "        #instance 변수 선언\n",
    "        self.instanceVar = data     \n",
    "        print(\"init이 되면서 실행되는거지 생성자\")\n",
    "    \n",
    "    def getInstanceVar(self):\n",
    "        return self.instanceVar\n",
    "        \n",
    "        \n",
    "def getInstanceVar2():\n",
    "    return \"클래스 외부에 구현된 별도의 함수\"\n",
    "    "
   ]
  },
  {
   "cell_type": "code",
   "execution_count": 4,
   "metadata": {},
   "outputs": [
    {
     "name": "stdout",
     "output_type": "stream",
     "text": [
      "init이 되면서 실행되는거지 생성자\n"
     ]
    },
    {
     "data": {
      "text/plain": [
       "'생성자로 유입되는 데이터들'"
      ]
     },
     "execution_count": 4,
     "metadata": {},
     "output_type": "execute_result"
    }
   ],
   "source": [
    "d = UserClass('생성자로 유입되는 데이터들') #__init__(self, data)\n",
    "data1 = d.getInstanceVar()\n",
    "data1"
   ]
  },
  {
   "cell_type": "code",
   "execution_count": 3,
   "metadata": {},
   "outputs": [
    {
     "data": {
      "text/plain": [
       "'클래스 외부에 구현된 별도의 함수'"
      ]
     },
     "execution_count": 3,
     "metadata": {},
     "output_type": "execute_result"
    }
   ],
   "source": [
    "data2 = getInstanceVar2()\n",
    "data2"
   ]
  },
  {
   "cell_type": "code",
   "execution_count": 4,
   "metadata": {},
   "outputs": [
    {
     "name": "stdout",
     "output_type": "stream",
     "text": [
      "생성자\n",
      "변수\n"
     ]
    }
   ],
   "source": [
    "i1 = UserClass('변수')\n",
    "data = i1.getInstanceVar()\n",
    "print(data)"
   ]
  },
  {
   "cell_type": "markdown",
   "metadata": {},
   "source": [
    "**미션** \n",
    "\n",
    "1. Person 클래스 개발해 보기 \n",
    "- 멤버 변수 : name/age \n",
    "- get/setXxx()\n",
    "- test 하는 코드도 완성해 보기"
   ]
  },
  {
   "cell_type": "code",
   "execution_count": 19,
   "metadata": {},
   "outputs": [
    {
     "data": {
      "text/plain": [
       "'재웅30'"
      ]
     },
     "execution_count": 19,
     "metadata": {},
     "output_type": "execute_result"
    }
   ],
   "source": [
    "class Person:\n",
    "    def __init__(self, name, age): #생성자\n",
    "        self.name = name\n",
    "        self.age = age\n",
    "    \n",
    "    def getName(self):\n",
    "        return self.name\n",
    "    def getAge(self):\n",
    "        return self.age    \n",
    "    \n",
    "    def setName(self, name):\n",
    "        self.name = name\n",
    "    def setAge(self, age):\n",
    "        self.age = age\n",
    "    \n",
    "    def toString(self):\n",
    "        return self.name + str(self.age)\n",
    "\n",
    "p1 = Person('재웅',28)\n",
    "\n",
    "p1.getAge()\n",
    "p1.setAge(30)\n",
    "p1.getAge()\n",
    "p1.toString()"
   ]
  },
  {
   "cell_type": "code",
   "execution_count": 21,
   "metadata": {},
   "outputs": [
    {
     "data": {
      "text/plain": [
       "31"
      ]
     },
     "execution_count": 21,
     "metadata": {},
     "output_type": "execute_result"
    }
   ],
   "source": [
    "class Person2:\n",
    "    def __init__(self, name, age): #생성자\n",
    "        self.name = name\n",
    "        self.age = age\n",
    "        \n",
    "p2 = Person2('재웅',31)\n",
    "p2.age"
   ]
  },
  {
   "cell_type": "code",
   "execution_count": null,
   "metadata": {},
   "outputs": [],
   "source": []
  },
  {
   "cell_type": "markdown",
   "metadata": {},
   "source": [
    "**미션-미완성 문법 완성하기**"
   ]
  },
  {
   "cell_type": "code",
   "execution_count": 24,
   "metadata": {},
   "outputs": [
    {
     "name": "stdout",
     "output_type": "stream",
     "text": [
      "난 생성자\n",
      "instanceVar 변수 값 :  None\n",
      "클래스 내부의 getIntValue() 함수\n",
      "intValue 변수 값 :  인스턴스 변수\n",
      "클래스 내부의 getIntValue() 함수\n",
      "intValue 변수 값 :  인스턴스 변수\n"
     ]
    }
   ],
   "source": [
    "class UserClass:    \n",
    "    def __init__(intValue=10):\n",
    "        instanceVar = ''\n",
    "        intValue = intValue;\n",
    "        print('난 생성자')\n",
    "        \n",
    "    def setVar():\n",
    "        instanceVar = '인스턴스 변수'\n",
    "        \n",
    "    def getVar():\n",
    "        self.instanceVar\n",
    "    \n",
    "    def getIntValue():\n",
    "        print(\"클래스 내부의 getIntValue() 함수\")\n",
    "        return self.instanceVar\n",
    "\n",
    "    def methodReturnFun(self):\n",
    "        return self.getIntValue()\n",
    " \n",
    "\n",
    "instance = UserClass()\n",
    "instance.setVar()\n",
    "\n",
    "print(\"instanceVar 변수 값 : \", instance.getVar())\n",
    "print(\"intValue 변수 값 : \", instance.getIntValue())    \n",
    "print(\"intValue 변수 값 : \", instance.methodReturnFun())    "
   ]
  },
  {
   "cell_type": "markdown",
   "metadata": {},
   "source": [
    "### 3. class 변수\n",
    "\n",
    "- class 변수란? class 내에 선언되는 변수, 생성되는 모든 객체가 공유\n",
    "- 문제 제시후 직접 개발 해 보고 확인을 위한 test 코드도 구성해 보기\n",
    "- 자바의 static 변수와 흡사\n",
    "> 클래스.변수 [=값];"
   ]
  },
  {
   "cell_type": "code",
   "execution_count": 1,
   "metadata": {},
   "outputs": [],
   "source": [
    "'''\n",
    "    자바 기준 : 객체 생성없이 실제 실행시에 사용 가능한 변수\n",
    "                static 변수(class 변수)\n",
    "                호출 문법 : class명.변수명\n",
    "    python 기준 : class 변수는 class명.변수명\n",
    "'''\n",
    "class People:\n",
    "\n",
    "\n"
   ]
  },
  {
   "cell_type": "code",
   "execution_count": null,
   "metadata": {},
   "outputs": [],
   "source": []
  },
  {
   "cell_type": "markdown",
   "metadata": {},
   "source": [
    "### 4. private 변수\n",
    "1. 문법 : 언더바 두개로 선언\n",
    "    - 언더바 표기는 직접 호출을 비추하는 구조\n",
    "    \n",
    "2. 권장사항 : 변수가 private인 경우 set/getXxx메소드 추가 구현 권장<br>\n",
    "단, setXxx() 는 유효성 검증 코드 포함\n",
    "              "
   ]
  },
  {
   "cell_type": "code",
   "execution_count": 3,
   "metadata": {},
   "outputs": [],
   "source": [
    "class People2:\n",
    "    def __init__(self, name=\"이이\", age=0):\n",
    "        self.name = name\n",
    "        self.__age = age"
   ]
  },
  {
   "cell_type": "code",
   "execution_count": 4,
   "metadata": {},
   "outputs": [
    {
     "name": "stdout",
     "output_type": "stream",
     "text": [
      "이이\n"
     ]
    }
   ],
   "source": [
    "p6 = People2()\n",
    "print(p6.name)"
   ]
  },
  {
   "cell_type": "code",
   "execution_count": 5,
   "metadata": {},
   "outputs": [
    {
     "ename": "AttributeError",
     "evalue": "'People2' object has no attribute 'age'",
     "output_type": "error",
     "traceback": [
      "\u001b[1;31m---------------------------------------------------------------------------\u001b[0m",
      "\u001b[1;31mAttributeError\u001b[0m                            Traceback (most recent call last)",
      "\u001b[1;32m<ipython-input-5-560382644f99>\u001b[0m in \u001b[0;36m<module>\u001b[1;34m\u001b[0m\n\u001b[1;32m----> 1\u001b[1;33m \u001b[0mprint\u001b[0m\u001b[1;33m(\u001b[0m\u001b[0mp6\u001b[0m\u001b[1;33m.\u001b[0m\u001b[0mage\u001b[0m\u001b[1;33m)\u001b[0m\u001b[1;33m\u001b[0m\u001b[1;33m\u001b[0m\u001b[0m\n\u001b[0m",
      "\u001b[1;31mAttributeError\u001b[0m: 'People2' object has no attribute 'age'"
     ]
    }
   ],
   "source": [
    "print(p6.age)"
   ]
  },
  {
   "cell_type": "markdown",
   "metadata": {},
   "source": [
    "### 5. 생성자와 소멸자\n",
    "\n",
    "> 1. init() : 생성자(constructor)는 객체가 생성될 때 객체를 기본값으로 초기화<br>\n",
    "> 파이썬에서는 생성자의 이름으로 __init__() 사용<br>\n",
    "> 객체 생성시 호출(class 이름으로 호출)\n",
    "\n",
    "> 2. del() : 객체가 삭제시 자동 호출되는 함수<br>\n",
    "> del 참조변수명  시에 자동 호출\n"
   ]
  },
  {
   "cell_type": "code",
   "execution_count": 41,
   "metadata": {},
   "outputs": [
    {
     "name": "stdout",
     "output_type": "stream",
     "text": [
      "생성자\n",
      "소멸자\n",
      "소멸자\n"
     ]
    }
   ],
   "source": [
    "class People2:\n",
    "    def __init__(self, name=\"이이\", age=0):\n",
    "        self.name = name\n",
    "        self.__age = age\n",
    "        print('생성자')\n",
    "        \n",
    "    def __del__(self):\n",
    "        print('소멸자')\n",
    "\n",
    "p3 = People2()\n",
    "del p3"
   ]
  },
  {
   "cell_type": "markdown",
   "metadata": {},
   "source": [
    "### 6. 특수 메소드\n",
    ">1. \\__init__ : 생성자<br>\n",
    ">2. \\__str__ : 자바의 toString과 흡사, print() 자동 호출<br>\n",
    ">3. \\__len__ : 길이 반환로직으로 재정의 권장"
   ]
  },
  {
   "cell_type": "code",
   "execution_count": 45,
   "metadata": {},
   "outputs": [
    {
     "name": "stdout",
     "output_type": "stream",
     "text": [
      "제목: Data Structure, 저자: bookMan, 페이지: 200\n",
      "200\n"
     ]
    }
   ],
   "source": [
    "class Book:\n",
    "    # 생성자\n",
    "    def __init__(self, title, author, pages):\n",
    "        self.title = title\n",
    "        self.author = author\n",
    "        self.pages = pages\n",
    "        \n",
    "    def __str__(self):\n",
    "        return '제목: %s, 저자: %s, 페이지: %s' % (self.title, self.author, self.pages)\n",
    "    \n",
    "    def __len__(self):\n",
    "        return self.pages\n",
    "        \n",
    "book = Book(\"Data Structure\", \"bookMan\", 200)\n",
    "print(book)\n",
    "print(len(book))"
   ]
  },
  {
   "cell_type": "markdown",
   "metadata": {},
   "source": [
    "### 7. 메소드 재정의 \n",
    ">객체의 연산시에 사용되는 사칙 연산 관련 특수 메소드 재정의 하기"
   ]
  },
  {
   "cell_type": "code",
   "execution_count": 46,
   "metadata": {},
   "outputs": [],
   "source": [
    "class SpecialMethod2:\n",
    "    def __init__(self, x, y):\n",
    "        self.x = x\n",
    "        self.y = y\n",
    "    \n",
    "    def __add__(self, you):\n",
    "        print(\"__add__ 호출 확인\")\n",
    "        return SpecialMethod2(self.x + you.x, self.y + you.y)\n",
    "    \n",
    "    def __eq__(self, you):\n",
    "        print('__eq__ 호출 확인')\n",
    "        return self.x == you.x and self.y == you.y\n",
    "    \n",
    "    def __str__(self):\n",
    "        print(\"__str__ 호출 확인\")\n",
    "        return '(%d, %d)' % (self.x, self.y)"
   ]
  },
  {
   "cell_type": "code",
   "execution_count": 55,
   "metadata": {},
   "outputs": [],
   "source": [
    "s1 = SpecialMethod2(1,2)\n",
    "s2 = SpecialMethod2(3,4)"
   ]
  },
  {
   "cell_type": "code",
   "execution_count": 56,
   "metadata": {},
   "outputs": [
    {
     "name": "stdout",
     "output_type": "stream",
     "text": [
      "__add__ 호출 확인\n",
      "__str__ 호출 확인\n",
      "(4, 6)\n"
     ]
    }
   ],
   "source": [
    "print(s1+s2)"
   ]
  },
  {
   "cell_type": "code",
   "execution_count": null,
   "metadata": {},
   "outputs": [],
   "source": []
  }
 ],
 "metadata": {
  "kernelspec": {
   "display_name": "Python 3",
   "language": "python",
   "name": "python3"
  },
  "language_info": {
   "codemirror_mode": {
    "name": "ipython",
    "version": 3
   },
   "file_extension": ".py",
   "mimetype": "text/x-python",
   "name": "python",
   "nbconvert_exporter": "python",
   "pygments_lexer": "ipython3",
   "version": "3.8.5"
  }
 },
 "nbformat": 4,
 "nbformat_minor": 2
}
