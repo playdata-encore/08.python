{
 "cells": [
  {
   "cell_type": "markdown",
   "metadata": {},
   "source": [
    "데코레이터\n",
    "\n",
    "1. 장식자라고도 함\n",
    "2. 표현법 : java 애노테이션과 동일\n",
    "3. python 에선 장식자 활용해서 기능 완성"
   ]
  },
  {
   "cell_type": "markdown",
   "metadata": {},
   "source": [
    "Property 장식자\n",
    "\n",
    "1. 객체의 특정 속성에 대한 접근을 제어하고자 할 경우 사용\n",
    "2. 개발 방식\n",
    "    >@Property\n",
    "    \n",
    "    >속성명과 동일한 함수를 구현\n",
    "    \n",
    "    >속성명과 동일한 @데코레이터.setter 가 선언된 함수 구현\n",
    "    \n",
    "고객의 나이는 반드시 1 이상이어야 할 경우 property로 제어하는 방법"
   ]
  },
  {
   "cell_type": "markdown",
   "metadata": {},
   "source": [
    "자바와 비교시 자바는 private 으로 선언된 변수는 외부에서 호출 절대 불가<br><br>\n",
    "\n",
    "python은 _ 이나 __ 는 호출하지 마세요 라는 메세지일뿐 실제로 호출 가능하다는게 킹받는 부분 실제로는 안됨\n",
    "\n",
    "python은 자바의 public setXxx 메소드와 같은 구조로 @Property 장식자 사용\n",
    "변수호출하는 문법으로 내부적으로 <br>\n",
    "1. 참조변수명.함수명 : @property가 선언된 함수 호출\n",
    "2. 참조변수명.함수명 = 값 : @xxx.setter 선언된 함수 호출"
   ]
  },
  {
   "cell_type": "code",
   "execution_count": 39,
   "metadata": {},
   "outputs": [],
   "source": [
    "class Customer:\n",
    "    def __init__(self, name):\n",
    "        self.name = name\n",
    "        self._age = None # _로 시작하는 변수는 외부에서 직접호출 금지하자는 sign\n",
    "            \n",
    "    @property\n",
    "    def age(self):       # c.age만으로 호출하는 함수 but c.age(10) 호출시 에러 발생\n",
    "        print('@property age')\n",
    "        return self._age\n",
    "    \n",
    "    @age.setter\n",
    "    def age(self, new_age):\n",
    "        print(\"@age.setter\")\n",
    "        if new_age<=0:\n",
    "            raise ValueError(f\"무효한 나이 '{new_age}'\")\n",
    "        self._age = new_age\n",
    "c1 = Customer(1)\n"
   ]
  },
  {
   "cell_type": "code",
   "execution_count": 40,
   "metadata": {},
   "outputs": [],
   "source": [
    "c = Customer('백종원')"
   ]
  },
  {
   "cell_type": "code",
   "execution_count": 41,
   "metadata": {},
   "outputs": [
    {
     "name": "stdout",
     "output_type": "stream",
     "text": [
      "@age.setter\n"
     ]
    }
   ],
   "source": [
    "c.age = 10"
   ]
  },
  {
   "cell_type": "code",
   "execution_count": 42,
   "metadata": {},
   "outputs": [
    {
     "name": "stdout",
     "output_type": "stream",
     "text": [
      "@age.setter\n"
     ]
    },
    {
     "ename": "ValueError",
     "evalue": "무효한 나이 '-1'",
     "output_type": "error",
     "traceback": [
      "\u001b[1;31m---------------------------------------------------------------------------\u001b[0m",
      "\u001b[1;31mValueError\u001b[0m                                Traceback (most recent call last)",
      "\u001b[1;32m<ipython-input-42-77533e2c3b1d>\u001b[0m in \u001b[0;36m<module>\u001b[1;34m\u001b[0m\n\u001b[1;32m----> 1\u001b[1;33m \u001b[0mc\u001b[0m\u001b[1;33m.\u001b[0m\u001b[0mage\u001b[0m \u001b[1;33m=\u001b[0m \u001b[1;33m-\u001b[0m\u001b[1;36m1\u001b[0m\u001b[1;33m\u001b[0m\u001b[1;33m\u001b[0m\u001b[0m\n\u001b[0m",
      "\u001b[1;32m<ipython-input-39-49eb796c1ea3>\u001b[0m in \u001b[0;36mage\u001b[1;34m(self, new_age)\u001b[0m\n\u001b[0;32m     13\u001b[0m         \u001b[0mprint\u001b[0m\u001b[1;33m(\u001b[0m\u001b[1;34m\"@age.setter\"\u001b[0m\u001b[1;33m)\u001b[0m\u001b[1;33m\u001b[0m\u001b[1;33m\u001b[0m\u001b[0m\n\u001b[0;32m     14\u001b[0m         \u001b[1;32mif\u001b[0m \u001b[0mnew_age\u001b[0m\u001b[1;33m<=\u001b[0m\u001b[1;36m0\u001b[0m\u001b[1;33m:\u001b[0m\u001b[1;33m\u001b[0m\u001b[1;33m\u001b[0m\u001b[0m\n\u001b[1;32m---> 15\u001b[1;33m             \u001b[1;32mraise\u001b[0m \u001b[0mValueError\u001b[0m\u001b[1;33m(\u001b[0m\u001b[1;34mf\"무효한 나이 '{new_age}'\"\u001b[0m\u001b[1;33m)\u001b[0m\u001b[1;33m\u001b[0m\u001b[1;33m\u001b[0m\u001b[0m\n\u001b[0m\u001b[0;32m     16\u001b[0m         \u001b[0mself\u001b[0m\u001b[1;33m.\u001b[0m\u001b[0m_age\u001b[0m \u001b[1;33m=\u001b[0m \u001b[0mnew_age\u001b[0m\u001b[1;33m\u001b[0m\u001b[1;33m\u001b[0m\u001b[0m\n\u001b[0;32m     17\u001b[0m \u001b[0mc1\u001b[0m \u001b[1;33m=\u001b[0m \u001b[0mCustomer\u001b[0m\u001b[1;33m(\u001b[0m\u001b[1;36m1\u001b[0m\u001b[1;33m)\u001b[0m\u001b[1;33m\u001b[0m\u001b[1;33m\u001b[0m\u001b[0m\n",
      "\u001b[1;31mValueError\u001b[0m: 무효한 나이 '-1'"
     ]
    }
   ],
   "source": [
    "c.age = -1"
   ]
  },
  {
   "cell_type": "code",
   "execution_count": 43,
   "metadata": {},
   "outputs": [
    {
     "name": "stdout",
     "output_type": "stream",
     "text": [
      "@property age\n"
     ]
    },
    {
     "data": {
      "text/plain": [
       "10"
      ]
     },
     "execution_count": 43,
     "metadata": {},
     "output_type": "execute_result"
    }
   ],
   "source": [
    "c.age"
   ]
  },
  {
   "cell_type": "code",
   "execution_count": 86,
   "metadata": {},
   "outputs": [],
   "source": [
    "import re\n",
    "\n",
    "def email_validate(email):\n",
    "    return re.match(r\"[^@]+@[^@]+\\.[^@]+\", email) is not None\n",
    "\n",
    "class User:\n",
    "    def __init__(self, username):\n",
    "        self.name = username\n",
    "        self._email = None\n",
    "    \n",
    "    @property\n",
    "    def email(self):\n",
    "        return self._email;\n",
    "    \n",
    "    @email.setter\n",
    "    def email(self, new_email):\n",
    "        if email_validate(new_email):\n",
    "            print(email_validate(new_email))\n",
    "            self._email = new_email\n",
    "        else:\n",
    "            raise ValueError('잘못된 이메일 형식입니다.')\n",
    "        \n",
    "        \n",
    "u1 = User('재웅')"
   ]
  },
  {
   "cell_type": "code",
   "execution_count": 87,
   "metadata": {},
   "outputs": [
    {
     "name": "stdout",
     "output_type": "stream",
     "text": [
      "True\n"
     ]
    },
    {
     "data": {
      "text/plain": [
       "'jaeung@naver.com'"
      ]
     },
     "execution_count": 87,
     "metadata": {},
     "output_type": "execute_result"
    }
   ],
   "source": [
    "u1.email = 'jaeung@naver.com'\n",
    "u1.email"
   ]
  },
  {
   "cell_type": "code",
   "execution_count": 88,
   "metadata": {},
   "outputs": [
    {
     "ename": "ValueError",
     "evalue": "잘못된 이메일 형식입니다.",
     "output_type": "error",
     "traceback": [
      "\u001b[1;31m---------------------------------------------------------------------------\u001b[0m",
      "\u001b[1;31mValueError\u001b[0m                                Traceback (most recent call last)",
      "\u001b[1;32m<ipython-input-88-0539bc5b1860>\u001b[0m in \u001b[0;36m<module>\u001b[1;34m\u001b[0m\n\u001b[1;32m----> 1\u001b[1;33m \u001b[0mu1\u001b[0m\u001b[1;33m.\u001b[0m\u001b[0memail\u001b[0m \u001b[1;33m=\u001b[0m \u001b[1;34m'anaver.com'\u001b[0m\u001b[1;33m\u001b[0m\u001b[1;33m\u001b[0m\u001b[0m\n\u001b[0m\u001b[0;32m      2\u001b[0m \u001b[0mu1\u001b[0m\u001b[1;33m.\u001b[0m\u001b[0memail\u001b[0m\u001b[1;33m\u001b[0m\u001b[1;33m\u001b[0m\u001b[0m\n",
      "\u001b[1;32m<ipython-input-86-1629ebfc05ee>\u001b[0m in \u001b[0;36memail\u001b[1;34m(self, new_email)\u001b[0m\n\u001b[0;32m     19\u001b[0m             \u001b[0mself\u001b[0m\u001b[1;33m.\u001b[0m\u001b[0m_email\u001b[0m \u001b[1;33m=\u001b[0m \u001b[0mnew_email\u001b[0m\u001b[1;33m\u001b[0m\u001b[1;33m\u001b[0m\u001b[0m\n\u001b[0;32m     20\u001b[0m         \u001b[1;32melse\u001b[0m\u001b[1;33m:\u001b[0m\u001b[1;33m\u001b[0m\u001b[1;33m\u001b[0m\u001b[0m\n\u001b[1;32m---> 21\u001b[1;33m             \u001b[1;32mraise\u001b[0m \u001b[0mValueError\u001b[0m\u001b[1;33m(\u001b[0m\u001b[1;34m'잘못된 이메일 형식입니다.'\u001b[0m\u001b[1;33m)\u001b[0m\u001b[1;33m\u001b[0m\u001b[1;33m\u001b[0m\u001b[0m\n\u001b[0m\u001b[0;32m     22\u001b[0m \u001b[1;33m\u001b[0m\u001b[0m\n\u001b[0;32m     23\u001b[0m \u001b[1;33m\u001b[0m\u001b[0m\n",
      "\u001b[1;31mValueError\u001b[0m: 잘못된 이메일 형식입니다."
     ]
    }
   ],
   "source": [
    "u1.email = 'anaver.com'\n",
    "u1.email"
   ]
  },
  {
   "cell_type": "code",
   "execution_count": 89,
   "metadata": {},
   "outputs": [
    {
     "data": {
      "text/plain": [
       "'jaeung@naver.com'"
      ]
     },
     "execution_count": 89,
     "metadata": {},
     "output_type": "execute_result"
    }
   ],
   "source": [
    "u1.email"
   ]
  },
  {
   "cell_type": "code",
   "execution_count": null,
   "metadata": {},
   "outputs": [],
   "source": []
  }
 ],
 "metadata": {
  "kernelspec": {
   "display_name": "Python 3",
   "language": "python",
   "name": "python3"
  },
  "language_info": {
   "codemirror_mode": {
    "name": "ipython",
    "version": 3
   },
   "file_extension": ".py",
   "mimetype": "text/x-python",
   "name": "python",
   "nbconvert_exporter": "python",
   "pygments_lexer": "ipython3",
   "version": "3.8.5"
  }
 },
 "nbformat": 4,
 "nbformat_minor": 4
}
