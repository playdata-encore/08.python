{
 "cells": [
  {
   "cell_type": "markdown",
   "metadata": {},
   "source": [
    "# 성능 향상과 메모리 관리\n"
   ]
  },
  {
   "cell_type": "markdown",
   "metadata": {},
   "source": [
    "성능이 저하되는 요인\n",
    "\n",
    "1. 대부분의 프로그래밍 언어가 느려지는 경우는 메모리가 재할당이 이뤄지기 때문\n",
    "2. 주로 for문에서 발생 : 실행 성능을 고려하지 않은 개발 방식\n",
    "3. 불필요한 객체는 자동으로 관리하는 코드로 개발 권장\n",
    "4. 실행 속도 확인을 위한 예시 로직 : **0~99999 까지의 데이터를 list에 할당하는 로직**\n",
    "\n",
    "5. 개발시 실행 속도 및 메모리 자원 효율성도 고려하면서 작업 권장\n",
    "\n",
    "<hr>"
   ]
  },
  {
   "cell_type": "code",
   "execution_count": 1,
   "metadata": {},
   "outputs": [],
   "source": [
    "# 시간 데이터 다루는 모듈\n",
    "# 밀리초는 천 분의 1초를 가리키는 말이다.\n",
    "\n",
    "import time"
   ]
  },
  {
   "cell_type": "markdown",
   "metadata": {},
   "source": [
    "for문 실행 마다 메모리 재 할당 발생\n",
    "\n",
    "a2 변수에 append 하기 때문\n",
    "\n",
    "속도 저하 및 메모리가 효율적이지 못함"
   ]
  },
  {
   "cell_type": "code",
   "execution_count": 2,
   "metadata": {},
   "outputs": [
    {
     "name": "stdout",
     "output_type": "stream",
     "text": [
      "0.0023508071899414062\n"
     ]
    }
   ],
   "source": [
    "# time() 함수: 현재 timestamp(1970년 1월 1일 0시 0분 0초부터의 경과 시간)얻기\n",
    "# 정수부는 초단위, 소수부는 마이크로(micro) 초단위\n",
    "\n",
    "start_time = time.time()\n",
    "\n",
    "data = list(range(100000))\n",
    "\n",
    "end_time = time.time() \n",
    "elapsed_time = end_time - start_time\n",
    "\n",
    "print(elapsed_time)\n",
    "# print(data)"
   ]
  },
  {
   "cell_type": "markdown",
   "metadata": {
    "scrolled": true
   },
   "source": [
    "*2 라는 연산이 수행되고 list내에 list로 데이터가 저장되어야 할 경우를 기준으로 수행 속도 향상을 위한 개발 기술"
   ]
  },
  {
   "cell_type": "code",
   "execution_count": 3,
   "metadata": {
    "scrolled": true
   },
   "outputs": [
    {
     "name": "stdout",
     "output_type": "stream",
     "text": [
      "0.021311044692993164\n"
     ]
    }
   ],
   "source": [
    "lst1 = list()\n",
    "\n",
    "start_time = time.time()\n",
    "\n",
    "for i in data:\n",
    "    lst1.append(i*2)\n",
    "\n",
    "end_time = time.time() \n",
    "\n",
    "elapsed_time = end_time - start_time\n",
    "print(elapsed_time)\n",
    "\n",
    "# print(data2)"
   ]
  },
  {
   "cell_type": "markdown",
   "metadata": {},
   "source": [
    "1차 개선 - comprehension 방식"
   ]
  },
  {
   "cell_type": "code",
   "execution_count": 4,
   "metadata": {},
   "outputs": [
    {
     "name": "stdout",
     "output_type": "stream",
     "text": [
      "0.0051882266998291016\n"
     ]
    }
   ],
   "source": [
    "start_time = time.time()\n",
    "\n",
    "lst2 = [[x*2 for x in range(100000)]]\n",
    "\n",
    "end_time = time.time()\n",
    "\n",
    "elapsed_time = end_time - start_time\n",
    "print(elapsed_time)\n",
    "# print(temp)"
   ]
  },
  {
   "cell_type": "code",
   "execution_count": 5,
   "metadata": {},
   "outputs": [
    {
     "name": "stdout",
     "output_type": "stream",
     "text": [
      "0.008038759231567383\n"
     ]
    }
   ],
   "source": [
    "lst3 = []\n",
    "\n",
    "start_time = time.time()\n",
    "\n",
    "lst3.append([x*2 for x in range(100000)])\n",
    "\n",
    "end_time = time.time()\n",
    "\n",
    "elapsed_time = end_time - start_time\n",
    "print(elapsed_time)\n",
    "\n",
    "# print(data)"
   ]
  },
  {
   "cell_type": "markdown",
   "metadata": {},
   "source": [
    "2차 개선 - map() 함수 사용\n",
    "map() 내부적으로 연산과 메모리를 관리하기 때문에 효율적"
   ]
  },
  {
   "cell_type": "code",
   "execution_count": 6,
   "metadata": {},
   "outputs": [
    {
     "name": "stdout",
     "output_type": "stream",
     "text": [
      "0.004004001617431641\n"
     ]
    }
   ],
   "source": [
    "start_time = time.time()\n",
    "\n",
    "lst4 = map(lambda n: n*2, list(range(100000)))\n",
    "\n",
    "end_time = time.time()\n",
    "\n",
    "elapsed_time = end_time - start_time\n",
    "print(elapsed_time)"
   ]
  },
  {
   "cell_type": "code",
   "execution_count": null,
   "metadata": {},
   "outputs": [],
   "source": []
  }
 ],
 "metadata": {
  "kernelspec": {
   "display_name": "Python 3",
   "language": "python",
   "name": "python3"
  },
  "language_info": {
   "codemirror_mode": {
    "name": "ipython",
    "version": 3
   },
   "file_extension": ".py",
   "mimetype": "text/x-python",
   "name": "python",
   "nbconvert_exporter": "python",
   "pygments_lexer": "ipython3",
   "version": "3.8.5"
  }
 },
 "nbformat": 4,
 "nbformat_minor": 2
}
